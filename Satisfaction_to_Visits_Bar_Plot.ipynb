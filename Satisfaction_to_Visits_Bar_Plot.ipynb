{
 "cells": [
  {
   "cell_type": "code",
   "execution_count": 1,
   "id": "1abfda92-4a66-44db-b420-63f3c53cc1ed",
   "metadata": {},
   "outputs": [
    {
     "data": {
      "text/html": [
       "<div>\n",
       "<style scoped>\n",
       "    .dataframe tbody tr th:only-of-type {\n",
       "        vertical-align: middle;\n",
       "    }\n",
       "\n",
       "    .dataframe tbody tr th {\n",
       "        vertical-align: top;\n",
       "    }\n",
       "\n",
       "    .dataframe thead th {\n",
       "        text-align: right;\n",
       "    }\n",
       "</style>\n",
       "<table border=\"1\" class=\"dataframe\">\n",
       "  <thead>\n",
       "    <tr style=\"text-align: right;\">\n",
       "      <th></th>\n",
       "      <th>visits</th>\n",
       "      <th>helpfulness</th>\n",
       "      <th>satisfaction</th>\n",
       "      <th>energy</th>\n",
       "      <th>standing</th>\n",
       "      <th>diet</th>\n",
       "    </tr>\n",
       "  </thead>\n",
       "  <tbody>\n",
       "    <tr>\n",
       "      <th>0</th>\n",
       "      <td>1-2 times</td>\n",
       "      <td>Helpful</td>\n",
       "      <td>5</td>\n",
       "      <td>3</td>\n",
       "      <td>Sophomore</td>\n",
       "      <td>2</td>\n",
       "    </tr>\n",
       "    <tr>\n",
       "      <th>1</th>\n",
       "      <td>1-2 times</td>\n",
       "      <td>Neither Helpful nor Unhelpful</td>\n",
       "      <td>3</td>\n",
       "      <td>3</td>\n",
       "      <td>Junior</td>\n",
       "      <td>3</td>\n",
       "    </tr>\n",
       "    <tr>\n",
       "      <th>2</th>\n",
       "      <td>0, I don't go to the SRC</td>\n",
       "      <td>N/A, never interacted with SRC staff</td>\n",
       "      <td>3</td>\n",
       "      <td>3</td>\n",
       "      <td>Junior</td>\n",
       "      <td>3</td>\n",
       "    </tr>\n",
       "    <tr>\n",
       "      <th>3</th>\n",
       "      <td>0, I don't go to the SRC</td>\n",
       "      <td>Helpful</td>\n",
       "      <td>3</td>\n",
       "      <td>2</td>\n",
       "      <td>Senior</td>\n",
       "      <td>3</td>\n",
       "    </tr>\n",
       "    <tr>\n",
       "      <th>4</th>\n",
       "      <td>1-2 times</td>\n",
       "      <td>N/A, never interacted with SRC staff</td>\n",
       "      <td>3</td>\n",
       "      <td>2</td>\n",
       "      <td>Sophomore</td>\n",
       "      <td>2</td>\n",
       "    </tr>\n",
       "  </tbody>\n",
       "</table>\n",
       "</div>"
      ],
      "text/plain": [
       "                     visits                           helpfulness  \\\n",
       "0                 1-2 times                               Helpful   \n",
       "1                 1-2 times         Neither Helpful nor Unhelpful   \n",
       "2  0, I don't go to the SRC  N/A, never interacted with SRC staff   \n",
       "3  0, I don't go to the SRC                               Helpful   \n",
       "4                 1-2 times  N/A, never interacted with SRC staff   \n",
       "\n",
       "   satisfaction  energy   standing  diet  \n",
       "0             5       3  Sophomore     2  \n",
       "1             3       3     Junior     3  \n",
       "2             3       3     Junior     3  \n",
       "3             3       2     Senior     3  \n",
       "4             3       2  Sophomore     2  "
      ]
     },
     "execution_count": 1,
     "metadata": {},
     "output_type": "execute_result"
    }
   ],
   "source": [
    "import pandas as pd\n",
    "\n",
    "df = pd.read_csv(\"MiniProject.csv\")\n",
    "df.head()"
   ]
  },
  {
   "cell_type": "code",
   "execution_count": 2,
   "id": "e89a3320-0705-44d0-b32a-88ad200ce601",
   "metadata": {},
   "outputs": [
    {
     "data": {
      "text/html": [
       "<div>\n",
       "<style scoped>\n",
       "    .dataframe tbody tr th:only-of-type {\n",
       "        vertical-align: middle;\n",
       "    }\n",
       "\n",
       "    .dataframe tbody tr th {\n",
       "        vertical-align: top;\n",
       "    }\n",
       "\n",
       "    .dataframe thead th {\n",
       "        text-align: right;\n",
       "    }\n",
       "</style>\n",
       "<table border=\"1\" class=\"dataframe\">\n",
       "  <thead>\n",
       "    <tr style=\"text-align: right;\">\n",
       "      <th>visits</th>\n",
       "      <th>0, I don't go to the SRC</th>\n",
       "      <th>1-2 times</th>\n",
       "      <th>3-4 times</th>\n",
       "      <th>5 or more times</th>\n",
       "    </tr>\n",
       "    <tr>\n",
       "      <th>satisfaction</th>\n",
       "      <th></th>\n",
       "      <th></th>\n",
       "      <th></th>\n",
       "      <th></th>\n",
       "    </tr>\n",
       "  </thead>\n",
       "  <tbody>\n",
       "    <tr>\n",
       "      <th>2</th>\n",
       "      <td>1</td>\n",
       "      <td>1</td>\n",
       "      <td>0</td>\n",
       "      <td>0</td>\n",
       "    </tr>\n",
       "    <tr>\n",
       "      <th>3</th>\n",
       "      <td>21</td>\n",
       "      <td>4</td>\n",
       "      <td>1</td>\n",
       "      <td>0</td>\n",
       "    </tr>\n",
       "    <tr>\n",
       "      <th>4</th>\n",
       "      <td>6</td>\n",
       "      <td>6</td>\n",
       "      <td>0</td>\n",
       "      <td>3</td>\n",
       "    </tr>\n",
       "    <tr>\n",
       "      <th>5</th>\n",
       "      <td>4</td>\n",
       "      <td>6</td>\n",
       "      <td>2</td>\n",
       "      <td>2</td>\n",
       "    </tr>\n",
       "  </tbody>\n",
       "</table>\n",
       "</div>"
      ],
      "text/plain": [
       "visits        0, I don't go to the SRC  1-2 times  3-4 times  5 or more times\n",
       "satisfaction                                                                 \n",
       "2                                    1          1          0                0\n",
       "3                                   21          4          1                0\n",
       "4                                    6          6          0                3\n",
       "5                                    4          6          2                2"
      ]
     },
     "execution_count": 2,
     "metadata": {},
     "output_type": "execute_result"
    }
   ],
   "source": [
    "satisfaction_to_visits = pd.crosstab(df.satisfaction, df.visits)\n",
    "satisfaction_to_visits"
   ]
  },
  {
   "cell_type": "code",
   "execution_count": 3,
   "id": "c06f8c49-379c-477b-8f84-1715b611677f",
   "metadata": {},
   "outputs": [
    {
     "data": {
      "image/png": "[encoded data removed]",
      "text/plain": [
       "<Figure size 800x800 with 1 Axes>"
      ]
     },
     "metadata": {},
     "output_type": "display_data"
    }
   ],
   "source": [
    "import matplotlib.pyplot as plt\n",
    "\n",
    "satisfaction_to_visits = pd.crosstab(df['satisfaction'], df['visits'])\n",
    "\n",
    "satisfaction_to_visits.plot(kind='bar', figsize=(8, 8))\n",
    "plt.title('SRC Satisfaction and Visits')\n",
    "plt.xlabel('Satisfaction')\n",
    "plt.ylabel('Number of Students')\n",
    "plt.legend(title='Visit Frequency')\n",
    "plt.xticks(rotation=0)\n",
    "plt.show()"
   ]
  }
 ],
 "metadata": {
  "kernelspec": {
   "display_name": "Python [conda env:base] *",
   "language": "python",
   "name": "conda-base-py"
  },
  "language_info": {
   "codemirror_mode": {
    "name": "ipython",
    "version": 3
   },
   "file_extension": ".py",
   "mimetype": "text/x-python",
   "name": "python",
   "nbconvert_exporter": "python",
   "pygments_lexer": "ipython3",
   "version": "3.12.7"
  }
 },
 "nbformat": 4,
 "nbformat_minor": 5
}
